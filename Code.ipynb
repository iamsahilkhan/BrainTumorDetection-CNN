{
 "cells": [
  {
   "cell_type": "code",
   "execution_count": 1,
   "metadata": {},
   "outputs": [],
   "source": [
    "import tensorflow as tf\n",
    "from keras.preprocessing.image import ImageDataGenerator"
   ]
  },
  {
   "cell_type": "code",
   "execution_count": 2,
   "metadata": {},
   "outputs": [],
   "source": [
    "#Data Preprocessing"
   ]
  },
  {
   "cell_type": "code",
   "execution_count": 3,
   "metadata": {},
   "outputs": [],
   "source": [
    "#Preprocessing the Training set"
   ]
  },
  {
   "cell_type": "code",
   "execution_count": 4,
   "metadata": {},
   "outputs": [
    {
     "name": "stdout",
     "output_type": "stream",
     "text": [
      "Found 2400 images belonging to 2 classes.\n"
     ]
    }
   ],
   "source": [
    "train_datagen = ImageDataGenerator(\n",
    "    rescale = 1./255,\n",
    "    shear_range = 0.2, \n",
    "    zoom_range = 0.2, \n",
    "    horizontal_flip = True)\n",
    "train_set = train_datagen.flow_from_directory(r'C:\\Users\\iamsa\\Downloads\\Detect\\training_set',\n",
    "                                                   target_size = (64,64),\n",
    "                                                   batch_size = 32,\n",
    "                                                   class_mode = 'binary')"
   ]
  },
  {
   "cell_type": "code",
   "execution_count": 5,
   "metadata": {},
   "outputs": [],
   "source": [
    "#Preprocessing the Test set"
   ]
  },
  {
   "cell_type": "code",
   "execution_count": 6,
   "metadata": {},
   "outputs": [
    {
     "name": "stdout",
     "output_type": "stream",
     "text": [
      "Found 600 images belonging to 2 classes.\n"
     ]
    }
   ],
   "source": [
    "test_datagen = ImageDataGenerator(rescale = 1./255)\n",
    "test_set = train_datagen.flow_from_directory(r'C:\\Users\\iamsa\\Downloads\\Detect\\test_set',\n",
    "                                                   target_size = (64,64),\n",
    "                                                   batch_size = 32,\n",
    "                                                   class_mode = 'binary')"
   ]
  },
  {
   "cell_type": "code",
   "execution_count": 7,
   "metadata": {},
   "outputs": [],
   "source": [
    "#Building the CNN"
   ]
  },
  {
   "cell_type": "code",
   "execution_count": 8,
   "metadata": {},
   "outputs": [],
   "source": [
    "cnn = tf.keras.models.Sequential() #Initialising the CNN\n",
    "cnn.add(tf.keras.layers.Conv2D(filters = 32, kernel_size = 3, activation = 'relu', input_shape = [64, 64, 3])) #Conv. Layer\n",
    "cnn.add(tf.keras.layers.MaxPool2D(pool_size = 2, strides = 2)) #Pooling"
   ]
  },
  {
   "cell_type": "code",
   "execution_count": 9,
   "metadata": {},
   "outputs": [],
   "source": [
    "cnn.add(tf.keras.layers.Conv2D(filters = 32, kernel_size = 3, activation = 'relu'))  #Adding the Second Convolutional Layer\n",
    "cnn.add(tf.keras.layers.MaxPool2D(pool_size = 2, strides = 2)) #Pooling"
   ]
  },
  {
   "cell_type": "code",
   "execution_count": 10,
   "metadata": {},
   "outputs": [],
   "source": [
    "cnn.add(tf.keras.layers.Flatten()) #Flattening"
   ]
  },
  {
   "cell_type": "code",
   "execution_count": 11,
   "metadata": {},
   "outputs": [],
   "source": [
    "cnn.add(tf.keras.layers.Dense(units = 128, activation = 'relu')) #Full Connection"
   ]
  },
  {
   "cell_type": "code",
   "execution_count": 12,
   "metadata": {},
   "outputs": [],
   "source": [
    "cnn.add(tf.keras.layers.Dense(units = 1, activation = 'sigmoid')) #Output Layer"
   ]
  },
  {
   "cell_type": "code",
   "execution_count": 13,
   "metadata": {},
   "outputs": [],
   "source": [
    "#Training the CNN"
   ]
  },
  {
   "cell_type": "code",
   "execution_count": 14,
   "metadata": {},
   "outputs": [],
   "source": [
    "cnn.compile(optimizer = 'adam', loss = 'binary_crossentropy', metrics = ['accuracy']) #Compiling the CNN"
   ]
  },
  {
   "cell_type": "code",
   "execution_count": 52,
   "metadata": {
    "scrolled": false
   },
   "outputs": [
    {
     "name": "stdout",
     "output_type": "stream",
     "text": [
      "Epoch 1/25\n",
      "75/75 [==============================] - 13s 170ms/step - loss: 0.5622 - accuracy: 0.7125 - val_loss: 0.5977 - val_accuracy: 0.6617\n",
      "Epoch 2/25\n",
      "75/75 [==============================] - 13s 175ms/step - loss: 0.4676 - accuracy: 0.7829 - val_loss: 0.5746 - val_accuracy: 0.7267\n",
      "Epoch 3/25\n",
      "75/75 [==============================] - 13s 180ms/step - loss: 0.3989 - accuracy: 0.8283 - val_loss: 0.5298 - val_accuracy: 0.7333\n",
      "Epoch 4/25\n",
      "75/75 [==============================] - 19s 258ms/step - loss: 0.3501 - accuracy: 0.8462 - val_loss: 0.4766 - val_accuracy: 0.7800\n",
      "Epoch 5/25\n",
      "75/75 [==============================] - 23s 308ms/step - loss: 0.3287 - accuracy: 0.8592 - val_loss: 0.5150 - val_accuracy: 0.7850\n",
      "Epoch 6/25\n",
      "75/75 [==============================] - 28s 378ms/step - loss: 0.2765 - accuracy: 0.8900 - val_loss: 0.4700 - val_accuracy: 0.7967\n",
      "Epoch 7/25\n",
      "75/75 [==============================] - 26s 343ms/step - loss: 0.2681 - accuracy: 0.8850 - val_loss: 0.4218 - val_accuracy: 0.8267\n",
      "Epoch 8/25\n",
      "75/75 [==============================] - 23s 310ms/step - loss: 0.2504 - accuracy: 0.8979 - val_loss: 0.4246 - val_accuracy: 0.8200\n",
      "Epoch 9/25\n",
      "75/75 [==============================] - 23s 309ms/step - loss: 0.2175 - accuracy: 0.9096 - val_loss: 0.3671 - val_accuracy: 0.8517\n",
      "Epoch 10/25\n",
      "75/75 [==============================] - 23s 301ms/step - loss: 0.2069 - accuracy: 0.9175 - val_loss: 0.3961 - val_accuracy: 0.8383\n",
      "Epoch 11/25\n",
      "75/75 [==============================] - 23s 313ms/step - loss: 0.1906 - accuracy: 0.9237 - val_loss: 0.5519 - val_accuracy: 0.7850\n",
      "Epoch 12/25\n",
      "75/75 [==============================] - 23s 311ms/step - loss: 0.1880 - accuracy: 0.9333 - val_loss: 0.4521 - val_accuracy: 0.8117\n",
      "Epoch 13/25\n",
      "75/75 [==============================] - 23s 310ms/step - loss: 0.1494 - accuracy: 0.9396 - val_loss: 0.4721 - val_accuracy: 0.8367\n",
      "Epoch 14/25\n",
      "75/75 [==============================] - 24s 315ms/step - loss: 0.1297 - accuracy: 0.9529 - val_loss: 0.3642 - val_accuracy: 0.8733\n",
      "Epoch 15/25\n",
      "75/75 [==============================] - 23s 313ms/step - loss: 0.1260 - accuracy: 0.9471 - val_loss: 0.3107 - val_accuracy: 0.9117\n",
      "Epoch 16/25\n",
      "75/75 [==============================] - 24s 316ms/step - loss: 0.1070 - accuracy: 0.9629 - val_loss: 0.2961 - val_accuracy: 0.9017\n",
      "Epoch 17/25\n",
      "75/75 [==============================] - 23s 312ms/step - loss: 0.0862 - accuracy: 0.9708 - val_loss: 0.2468 - val_accuracy: 0.9167\n",
      "Epoch 18/25\n",
      "75/75 [==============================] - 23s 309ms/step - loss: 0.0777 - accuracy: 0.9704 - val_loss: 0.2628 - val_accuracy: 0.9000\n",
      "Epoch 19/25\n",
      "75/75 [==============================] - 23s 309ms/step - loss: 0.0821 - accuracy: 0.9704 - val_loss: 0.3784 - val_accuracy: 0.8867\n",
      "Epoch 20/25\n",
      "75/75 [==============================] - 23s 309ms/step - loss: 0.0611 - accuracy: 0.9808 - val_loss: 0.3144 - val_accuracy: 0.9183\n",
      "Epoch 21/25\n",
      "75/75 [==============================] - 23s 310ms/step - loss: 0.0668 - accuracy: 0.9712 - val_loss: 0.4260 - val_accuracy: 0.8783\n",
      "Epoch 22/25\n",
      "75/75 [==============================] - 23s 310ms/step - loss: 0.0899 - accuracy: 0.9629 - val_loss: 0.2704 - val_accuracy: 0.9267\n",
      "Epoch 23/25\n",
      "75/75 [==============================] - 23s 307ms/step - loss: 0.0778 - accuracy: 0.9700 - val_loss: 0.3473 - val_accuracy: 0.9100\n",
      "Epoch 24/25\n",
      "75/75 [==============================] - 23s 311ms/step - loss: 0.0458 - accuracy: 0.9867 - val_loss: 0.3448 - val_accuracy: 0.9233\n",
      "Epoch 25/25\n",
      "75/75 [==============================] - 23s 308ms/step - loss: 0.0500 - accuracy: 0.9817 - val_loss: 0.3689 - val_accuracy: 0.8917\n"
     ]
    },
    {
     "data": {
      "text/plain": [
       "<keras.callbacks.History at 0x1d7e5f0ae88>"
      ]
     },
     "execution_count": 52,
     "metadata": {},
     "output_type": "execute_result"
    }
   ],
   "source": [
    "cnn.fit(x = train_set, validation_data = test_set, epochs = 25) #Training CNN on training set and evaluating it on test set"
   ]
  },
  {
   "cell_type": "code",
   "execution_count": 19,
   "metadata": {},
   "outputs": [],
   "source": [
    "#Making a single prediction"
   ]
  },
  {
   "cell_type": "code",
   "execution_count": 20,
   "metadata": {},
   "outputs": [],
   "source": [
    "import numpy as np\n",
    "from keras.preprocessing import image\n",
    "test_image = image.load_img(r'C:\\Users\\iamsa\\Downloads\\Detect\\single_prediction\\yes_or_no_3.jpg', target_size = (64, 64))\n",
    "test_image = image.img_to_array(test_image)\n",
    "test_image = np.expand_dims(test_image, axis = 0)\n",
    "result = cnn.predict(test_image)\n",
    "train_set.class_indices\n",
    "if result[0][0] == 1:\n",
    "    prediction = 'yes'\n",
    "else:\n",
    "    prediction = 'no'"
   ]
  },
  {
   "cell_type": "code",
   "execution_count": 21,
   "metadata": {},
   "outputs": [
    {
     "name": "stdout",
     "output_type": "stream",
     "text": [
      "yes\n"
     ]
    }
   ],
   "source": [
    "print(prediction)"
   ]
  },
  {
   "cell_type": "code",
   "execution_count": null,
   "metadata": {},
   "outputs": [],
   "source": []
  },
  {
   "cell_type": "code",
   "execution_count": null,
   "metadata": {},
   "outputs": [],
   "source": []
  }
 ],
 "metadata": {
  "kernelspec": {
   "display_name": "Python 3",
   "language": "python",
   "name": "python3"
  },
  "language_info": {
   "codemirror_mode": {
    "name": "ipython",
    "version": 3
   },
   "file_extension": ".py",
   "mimetype": "text/x-python",
   "name": "python",
   "nbconvert_exporter": "python",
   "pygments_lexer": "ipython3",
   "version": "3.7.4"
  }
 },
 "nbformat": 4,
 "nbformat_minor": 2
}
